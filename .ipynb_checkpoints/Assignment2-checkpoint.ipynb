{
 "cells": [
  {
   "cell_type": "code",
   "execution_count": null,
   "id": "84782adf-8bb1-4012-9118-5ba957a05f7f",
   "metadata": {},
   "outputs": [],
   "source": [
    "from pyspark.sql import SparkSession\n",
    "from pyspark.sql.functions import length,trim,col,avg,year,to_date\n",
    "from pyspark.sql.types import DateType\n",
    "spark = SparkSession.builder.getOrCreate()\n",
    "df=spark.read.json(r\".\\data\\amazon.json\")\n",
    "#Date Format changed\n",
    "df=df.withColumn('reviewTime',to_date('reviewTime',\"MM d, yyyy\"))\n",
    "df.show()\n",
    "#Syntax of commiting data to Postgres DB\n",
    "df.write.format(\"jdbc\").options(\n",
    "    url=\"jdbc:postgresql://host:port/database\",\n",
    "    driver=\"org.postgresql.Driver\",\n",
    "    dbtable=\"table_name\",\n",
    "    user=\"username\",\n",
    "    password=\"password\"\n",
    ").mode(\"overwrite\").save()\n",
    "#Writing data to parquet file\n",
    "df.write.parquet(\"output/Assignment2\\\",mode='overwrite')\n",
    "\n"
   ]
  }
 ],
 "metadata": {
  "kernelspec": {
   "display_name": "Python 3 (ipykernel)",
   "language": "python",
   "name": "python3"
  },
  "language_info": {
   "codemirror_mode": {
    "name": "ipython",
    "version": 3
   },
   "file_extension": ".py",
   "mimetype": "text/x-python",
   "name": "python",
   "nbconvert_exporter": "python",
   "pygments_lexer": "ipython3",
   "version": "3.11.3"
  }
 },
 "nbformat": 4,
 "nbformat_minor": 5
}
