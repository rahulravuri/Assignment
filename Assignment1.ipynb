{
 "cells": [
  {
   "cell_type": "code",
   "execution_count": null,
   "id": "4550ae6b-25bc-470e-8ce7-ea3aeb8e8923",
   "metadata": {},
   "outputs": [],
   "source": [
    "from pyspark.sql import SparkSession\n",
    "from pyspark.sql.functions import length,trim,col,avg,year,to_date,udf,min,max\n",
    "from pyspark.sql.types import DateType\n",
    "spark = SparkSession.builder.getOrCreate()\n",
    "#Data Frame Creation\n",
    "df=spark.read.json(r\".\\data\\amazon.json\")\n",
    "#creating a dataframe which will collect data of avg of ratings \n",
    "grp_df=df.withColumn(\"review_length\",length(trim(col(\"reviewText\")))).groupBy('asin').agg(avg(\"overall\").alias(\"rating_avg\"),max(\"review_length\").alias(\"review_len_avg\"))\n",
    "#Shows Output of Items with minimum rating\n",
    "grp_df.filter((grp_df.rating_avg == grp_df.agg({\"rating_avg\":\"min\"}).collect()[0][0])).show()\n",
    "#Shows Output of items with Max rating\n",
    "grp_df.filter((grp_df.rating_avg == grp_df.agg({\"rating_avg\":\"max\"}).collect()[0][0])).show()\n",
    "#shows output of item with max length of review\n",
    "grp_df.filter((grp_df.review_len_avg == grp_df.agg({\"review_len_avg\":\"max\"}).collect()[0][0])).show()\n",
    "#Shows Dataframe with reviewTime changed to Date format\n",
    "df=df.withColumn('reviewTime',to_date('reviewTime',\"MM d, yyyy\"))\n",
    "df.show()\n",
    "df.write.parquet(\"output/Assignment1/\",mode='overwrite')\n",
    "\n",
    "#User Defined Function which will return a column with value having details about verified user rating or not\n",
    "@udf(returnType=StringType()) \n",
    "def valid_rating_info(input1,input2):\n",
    "    if input1 :\n",
    "        return 'verified user ' + str(input2)\n",
    "    else:\n",
    "        return 'Unverified User '+ str(input2)\n",
    "\n",
    "df.withColumn('User_status',valid_rating_info(\"verified\",\"reviewerID\")).show()\n"
   ]
  }
 ],
 "metadata": {
  "kernelspec": {
   "display_name": "Python 3 (ipykernel)",
   "language": "python",
   "name": "python3"
  },
  "language_info": {
   "codemirror_mode": {
    "name": "ipython",
    "version": 3
   },
   "file_extension": ".py",
   "mimetype": "text/x-python",
   "name": "python",
   "nbconvert_exporter": "python",
   "pygments_lexer": "ipython3",
   "version": "3.11.3"
  }
 },
 "nbformat": 4,
 "nbformat_minor": 5
}
